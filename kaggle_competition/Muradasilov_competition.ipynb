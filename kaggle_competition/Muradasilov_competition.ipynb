{
 "cells": [
  {
   "cell_type": "code",
   "execution_count": 1,
   "metadata": {},
   "outputs": [],
   "source": [
    "import numpy as np\n",
    "import pandas as pd\n",
    "from sklearn.model_selection import train_test_split\n",
    "from sklearn.metrics import r2_score"
   ]
  },
  {
   "cell_type": "code",
   "execution_count": 2,
   "metadata": {},
   "outputs": [],
   "source": [
    "x = pd.read_csv(\"trainX.csv\").drop([\"Id\"], axis=1)\n",
    "x = np.array(x)\n",
    "y = pd.read_csv(\"trainY.csv\")[\"Value\"]\n",
    "y = np.array(y)\n",
    "test_x = pd.read_csv(\"testX.csv\").drop([\"Id\"], axis=1)\n",
    "test_x = np.array(test_x)"
   ]
  },
  {
   "cell_type": "code",
   "execution_count": 3,
   "metadata": {},
   "outputs": [],
   "source": [
    "trainX, testX, trainY, testY = train_test_split(x, y, random_state=42, test_size=0.2)"
   ]
  },
  {
   "cell_type": "code",
   "execution_count": 4,
   "metadata": {},
   "outputs": [
    {
     "name": "stdout",
     "output_type": "stream",
     "text": [
      "Best score: 0.593\n",
      "Best parameters set:\n",
      "\tC: 0.9649709995361269\n",
      "\tepsilon: 0.9450482237927939\n",
      "0.6247252638638092\n",
      "0.5818328896254641\n"
     ]
    }
   ],
   "source": [
    "from sklearn.svm import SVR\n",
    "from scipy.stats import uniform\n",
    "from sklearn.model_selection import RandomizedSearchCV\n",
    "from sklearn.preprocessing import StandardScaler\n",
    "from sklearn.model_selection import cross_val_score\n",
    "\n",
    "scaler = StandardScaler().fit(trainX)\n",
    "rescaled_trainX = scaler.transform(trainX)\n",
    "\n",
    "parameters = {'C': uniform(), 'epsilon': uniform()}\n",
    "model = SVR()\n",
    "clf = RandomizedSearchCV(estimator=model, param_distributions=parameters, n_iter=100, random_state=7, cv=3)\n",
    "clf.fit(rescaled_trainX, trainY)\n",
    "\n",
    "print(\"Best score: %0.3f\" % clf.best_score_)\n",
    "print(\"Best parameters set:\")\n",
    "best_parameters = clf.best_estimator_.get_params()\n",
    "for param_name in sorted(parameters.keys()):\n",
    "    print(\"\\t%s: %r\" % (param_name, best_parameters[param_name]))\n",
    "\n",
    "clf = SVR(C=best_parameters['C'], epsilon=best_parameters['epsilon'])\n",
    "clf.fit(rescaled_trainX, trainY)\n",
    "rescaled_testX = scaler.transform(testX)\n",
    "y_pred = clf.predict(rescaled_testX)\n",
    "print(r2_score(testY, y_pred))\n",
    "\n",
    "print(cross_val_score(clf, trainX, trainY, cv=5).mean())"
   ]
  },
  {
   "cell_type": "markdown",
   "metadata": {},
   "source": [
    "Submit"
   ]
  },
  {
   "cell_type": "code",
   "execution_count": 5,
   "metadata": {},
   "outputs": [],
   "source": [
    "rescaled_test_x = scaler.transform(test_x)\n",
    "y_pred = clf.predict(rescaled_test_x)"
   ]
  },
  {
   "cell_type": "code",
   "execution_count": 6,
   "metadata": {},
   "outputs": [],
   "source": [
    "Ypd = pd.DataFrame({'Value': y_pred})\n",
    "Ypd['Id'] = range(len(Ypd))\n",
    "Ypd.to_csv('Muradasilov_Ruslan.csv', index=False)"
   ]
  },
  {
   "cell_type": "code",
   "execution_count": null,
   "metadata": {},
   "outputs": [],
   "source": []
  }
 ],
 "metadata": {
  "kernelspec": {
   "display_name": "Python 3",
   "language": "python",
   "name": "python3"
  },
  "language_info": {
   "codemirror_mode": {
    "name": "ipython",
    "version": 3
   },
   "file_extension": ".py",
   "mimetype": "text/x-python",
   "name": "python",
   "nbconvert_exporter": "python",
   "pygments_lexer": "ipython3",
   "version": "3.7.4"
  }
 },
 "nbformat": 4,
 "nbformat_minor": 4
}
