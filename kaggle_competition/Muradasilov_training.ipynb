{
 "cells": [
  {
   "cell_type": "code",
   "execution_count": 2,
   "metadata": {
    "scrolled": true
   },
   "outputs": [],
   "source": [
    "import numpy as np\n",
    "import pandas as pd\n",
    "from sklearn.model_selection import train_test_split\n",
    "from sklearn.metrics import r2_score"
   ]
  },
  {
   "cell_type": "code",
   "execution_count": 3,
   "metadata": {},
   "outputs": [],
   "source": [
    "x = pd.read_csv(\"trainX.csv\").drop([\"Id\"], axis=1)\n",
    "x = np.array(x)\n",
    "y = pd.read_csv(\"trainY.csv\")[\"Value\"]\n",
    "y = np.array(y)\n",
    "z = pd.read_csv(\"testX.csv\").drop([\"Id\"], axis=1)\n",
    "z = np.array(z)"
   ]
  },
  {
   "cell_type": "code",
   "execution_count": 4,
   "metadata": {},
   "outputs": [
    {
     "name": "stdout",
     "output_type": "stream",
     "text": [
      "(2000, 20) (2000,) (2000, 20)\n"
     ]
    }
   ],
   "source": [
    "print(x.shape, y.shape, z.shape)"
   ]
  },
  {
   "cell_type": "code",
   "execution_count": 5,
   "metadata": {},
   "outputs": [
    {
     "name": "stdout",
     "output_type": "stream",
     "text": [
      "(1600, 20) (1600,) (400, 20) (400,)\n"
     ]
    }
   ],
   "source": [
    "trainX, testX, trainY, testY = train_test_split(x, y, random_state=42, test_size=0.2)\n",
    "print(trainX.shape, trainY.shape, testX.shape, testY.shape)"
   ]
  },
  {
   "cell_type": "code",
   "execution_count": 12,
   "metadata": {
    "scrolled": true
   },
   "outputs": [],
   "source": [
    "# from sklearn.ensemble import GradientBoostingRegressor\n",
    "# from sklearn.preprocessing import StandardScaler\n",
    "# from scipy.stats import uniform as sp_rand\n",
    "# from sklearn.model_selection import RandomizedSearchCV\n",
    "\n",
    "# scaler = StandardScaler().fit(trainX)\n",
    "# rescaled_trainX = scaler.transform(trainX)\n",
    "\n",
    "\n",
    "# parameters = {'n_estimators': np.arange(500)}\n",
    "# model = GradientBoostingRegressor()\n",
    "# clf = RandomizedSearchCV(estimator=model, param_distributions=parameters, n_iter=100)\n",
    "# clf.fit(rescaled_trainX, trainY)\n",
    "\n",
    "# print(\"Best score: %0.3f\" % clf.best_score_)\n",
    "# print(\"Best parameters set:\")\n",
    "# best_parameters = clf.best_estimator_.get_params()\n",
    "# for param_name in sorted(parameters.keys()):\n",
    "#     print(\"\\t%s: %r\" % (param_name, best_parameters[param_name]))\n",
    "\n",
    "\n",
    "# clf = GradientBoostingRegressor(random_state=21, n_estimators=best_parameters['n_estimators'])\n",
    "# clf.fit(rescaled_trainX, trainY)\n",
    "# rescaled_testX = scaler.transform(testX)\n",
    "# y_pred = clf.predict(rescaled_testX)\n",
    "# print(r2_score(testY, y_pred))\n",
    "\n",
    "# # from sklearn.model_selection import cross_val_score\n",
    "# # cross_val_score(clf, trainX, trainY, cv=5)"
   ]
  },
  {
   "cell_type": "code",
   "execution_count": 12,
   "metadata": {
    "scrolled": true
   },
   "outputs": [
    {
     "name": "stdout",
     "output_type": "stream",
     "text": [
      "0.6738542324964347\n"
     ]
    }
   ],
   "source": [
    "from sklearn import svm\n",
    "\n",
    "clf = svm.SVR(kernel='rbf', C=100, epsilon=1)\n",
    "clf.fit(trainX, trainY)\n",
    "y_pred = clf.predict(testX)\n",
    "print(r2_score(testY, y_pred))"
   ]
  },
  {
   "cell_type": "code",
   "execution_count": 61,
   "metadata": {},
   "outputs": [],
   "source": [
    "# from sklearn.svm import SVR\n",
    "# from sklearn.pipeline import make_pipeline\n",
    "# from sklearn.preprocessing import StandardScaler\n",
    "# from scipy.stats import uniform as sp_rand\n",
    "# from sklearn.model_selection import RandomizedSearchCV\n",
    "\n",
    "# param_grid = {'C': sp_rand(), 'epsilon': sp_rand()}\n",
    "# model = make_pipeline(StandardScaler(), SVR())\n",
    "# clf = RandomizedSearchCV(estimator=model, param_distributions=param_grid, n_iter=100)\n",
    "# clf.fit(trainX, trainY)\n",
    "# print(clf.best_score_)\n",
    "# print(clf.best_estimator_.C)"
   ]
  },
  {
   "cell_type": "code",
   "execution_count": 44,
   "metadata": {},
   "outputs": [
    {
     "name": "stdout",
     "output_type": "stream",
     "text": [
      "0.7000980841135205\n"
     ]
    }
   ],
   "source": [
    "from sklearn.svm import SVR\n",
    "from sklearn.pipeline import make_pipeline\n",
    "from sklearn.preprocessing import StandardScaler\n",
    "\n",
    "\n",
    "clf = make_pipeline(StandardScaler(), SVR(C=12.0, epsilon=0.1))\n",
    "clf.fit(trainX, trainY)\n",
    "y_pred = clf.predict(testX)\n",
    "print(r2_score(testY, y_pred))\n",
    "\n",
    "# from sklearn.model_selection import cross_val_score\n",
    "# print(cross_val_score(clf, trainX, trainY, cv=5).mean())"
   ]
  },
  {
   "cell_type": "code",
   "execution_count": 13,
   "metadata": {},
   "outputs": [
    {
     "name": "stdout",
     "output_type": "stream",
     "text": [
      "Best score: 0.681\n",
      "Best parameters set:\n",
      "\tC: 13\n",
      "\tepsilon: 0.9992872930474918\n",
      "0.691884353685457\n",
      "0.6624974933725463\n"
     ]
    }
   ],
   "source": [
    "# from sklearn.svm import SVR\n",
    "# from scipy.stats import uniform as sp_rand\n",
    "# from sklearn.model_selection import RandomizedSearchCV\n",
    "# from sklearn.preprocessing import StandardScaler\n",
    "\n",
    "# scaler = StandardScaler().fit(trainX)\n",
    "# rescaled_trainX = scaler.transform(trainX)\n",
    "\n",
    "# parameters = {'C': np.arange(100), 'epsilon': sp_rand()}\n",
    "# model = SVR()\n",
    "# clf = RandomizedSearchCV(estimator=model, param_distributions=parameters, n_iter=100)\n",
    "# clf.fit(rescaled_trainX, trainY)\n",
    "\n",
    "# #best score\n",
    "# print(\"Best score: %0.3f\" % clf.best_score_)\n",
    "# print(\"Best parameters set:\")\n",
    "# best_parameters = clf.best_estimator_.get_params()\n",
    "# for param_name in sorted(parameters.keys()):\n",
    "#     print(\"\\t%s: %r\" % (param_name, best_parameters[param_name]))\n",
    "\n",
    "# clf = SVR(C=best_parameters['C'], epsilon=best_parameters['epsilon'])\n",
    "# clf.fit(rescaled_trainX, trainY)\n",
    "# rescaled_testX = scaler.transform(testX)\n",
    "# y_pred = clf.predict(rescaled_testX)\n",
    "# print(r2_score(testY, y_pred))\n",
    "\n",
    "# from sklearn.model_selection import cross_val_score\n",
    "# print(cross_val_score(clf, trainX, trainY, cv=5).mean())"
   ]
  },
  {
   "cell_type": "code",
   "execution_count": 75,
   "metadata": {
    "scrolled": false
   },
   "outputs": [],
   "source": [
    "# from sklearn.svm import SVR\n",
    "# from scipy.stats import uniform as sp_rand\n",
    "# from sklearn.model_selection import GridSearchCV\n",
    "# from sklearn.preprocessing import StandardScaler\n",
    "\n",
    "# scaler = StandardScaler().fit(trainX)\n",
    "# rescaled_trainX = scaler.transform(trainX)\n",
    "\n",
    "# parameters = {'C': np.arange(100)}\n",
    "# model = SVR()\n",
    "# clf = GridSearchCV(estimator=model, param_grid=parameters, cv=5)\n",
    "# clf.fit(rescaled_trainX, trainY)\n",
    "\n",
    "# #best score\n",
    "# print(\"Best score: %0.3f\" % clf.best_score_)\n",
    "# print(\"Best parameters set:\")\n",
    "# best_parameters = clf.best_estimator_.get_params()\n",
    "# for param_name in sorted(parameters.keys()):\n",
    "#     print(\"\\t%s: %r\" % (param_name, best_parameters[param_name]))\n",
    "\n",
    "# clf = SVR(C=best_parameters['C'])\n",
    "# clf.fit(rescaled_trainX, trainY)\n",
    "# rescaled_testX = scaler.transform(testX)\n",
    "# y_pred = clf.predict(rescaled_testX)\n",
    "# print(r2_score(testY, y_pred))"
   ]
  },
  {
   "cell_type": "code",
   "execution_count": 30,
   "metadata": {},
   "outputs": [
    {
     "name": "stdout",
     "output_type": "stream",
     "text": [
      "0.720701222024107\n"
     ]
    }
   ],
   "source": [
    "# from sklearn.linear_model import LinearRegression, LassoCV\n",
    "# from sklearn.ensemble import RandomForestRegressor\n",
    "# from sklearn.tree import DecisionTreeRegressor\n",
    "# from sklearn.svm import SVR\n",
    "\n",
    "# estimators = [('ridge', LinearRegression()),\n",
    "#               ('lasso', LassoCV(random_state=21)),\n",
    "#               ('rf', RandomForestRegressor()),\n",
    "#               ('svr', SVR(C=12))]\n",
    "\n",
    "# from sklearn.ensemble import GradientBoostingRegressor\n",
    "# from sklearn.ensemble import StackingRegressor\n",
    "\n",
    "# reg = StackingRegressor(\n",
    "#     estimators=estimators,\n",
    "#     final_estimator=GradientBoostingRegressor(random_state=21, n_estimators=25))\n",
    "# reg.fit(trainX, trainY)\n",
    "# y_pred = reg.predict(testX)\n",
    "# print(r2_score(testY, y_pred))"
   ]
  },
  {
   "cell_type": "code",
   "execution_count": null,
   "metadata": {},
   "outputs": [],
   "source": [
    "# from sklearn.ensemble import GradientBoostingRegressor\n",
    "# from sklearn.ensemble import RandomForestRegressor\n",
    "# from sklearn.linear_model import LinearRegression\n",
    "# from sklearn.ensemble import VotingRegressor\n",
    "\n",
    "# reg1 = GradientBoostingRegressor(random_state=1, n_estimators=10)\n",
    "# reg2 = RandomForestRegressor(random_state=1, n_estimators=10)\n",
    "# reg3 = LinearRegression()\n",
    "# clf = VotingRegressor(estimators=[('gb', reg1), ('rf', reg2), ('lr', reg3)])\n",
    "# clf.fit(trainX, trainY)\n",
    "# y_pred = clf.predict(testX)\n",
    "# print(r2_score(testY, y_pred))"
   ]
  },
  {
   "cell_type": "code",
   "execution_count": null,
   "metadata": {},
   "outputs": [],
   "source": [
    "# from sklearn.model_selection import cross_val_score\n",
    "# from sklearn.datasets import make_blobs\n",
    "# from sklearn.ensemble import ExtraTreesRegressor\n",
    "# from sklearn.tree import DecisionTreeRegressor\n",
    "\n",
    "\n",
    "# clf = DecisionTreeRegressor(max_depth=None, min_samples_split=2,\n",
    "#     random_state=0)\n",
    "# scores = cross_val_score(clf, trainX, trainY, cv=5)\n",
    "# print(scores.mean())\n",
    "\n",
    "\n",
    "# clf = RandomForestRegressor(n_estimators=10, max_depth=None,\n",
    "#     min_samples_split=2, random_state=0)\n",
    "# scores = cross_val_score(clf,trainX, trainY, cv=5)\n",
    "# print(scores.mean())\n",
    "\n",
    "\n",
    "# clf = ExtraTreesRegressor(n_estimators=10, max_depth=None,\n",
    "#     min_samples_split=2, random_state=0)\n",
    "# scores = cross_val_score(clf, trainX, trainY, cv=5)\n",
    "# print(scores.mean())"
   ]
  },
  {
   "cell_type": "code",
   "execution_count": null,
   "metadata": {},
   "outputs": [],
   "source": [
    "from sklearn.ensemble import RandomForestRegressor\n",
    "\n",
    "clf = RandomForestRegressor()\n",
    "clf.fit(trainX, trainY)\n",
    "y_pred = clf.predict(testX)\n",
    "print(r2_score(testY, y_pred))"
   ]
  },
  {
   "cell_type": "code",
   "execution_count": 30,
   "metadata": {},
   "outputs": [
    {
     "name": "stdout",
     "output_type": "stream",
     "text": [
      "-226412.31223402018\n"
     ]
    }
   ],
   "source": [
    "# from sklearn.preprocessing import PolynomialFeatures\n",
    "# from sklearn import linear_model\n",
    "\n",
    "# poly = PolynomialFeatures(degree=2)\n",
    "# X_ = poly.fit_transform(trainX)\n",
    "# testX_ = poly.fit_transform(testX)\n",
    "\n",
    "# clf = linear_model.LinearRegression()\n",
    "# clf.fit(X_, trainY)\n",
    "# clf.predict(testX_)\n",
    "# print(r2_score(testY, y_pred))"
   ]
  },
  {
   "cell_type": "markdown",
   "metadata": {},
   "source": [
    "My submits"
   ]
  },
  {
   "cell_type": "code",
   "execution_count": null,
   "metadata": {},
   "outputs": [],
   "source": [
    "# 1st try\n",
    "# from sklearn.linear_model import LinearRegression\n",
    "\n",
    "# lr_model = LinearRegression()\n",
    "# lr_model.fit(x, y)\n",
    "# y_pred = lr_model.predict(z)"
   ]
  },
  {
   "cell_type": "code",
   "execution_count": null,
   "metadata": {},
   "outputs": [],
   "source": [
    "# 2nd and 3rd tries\n",
    "# from sklearn.svm import SVR\n",
    "# from sklearn.pipeline import make_pipeline\n",
    "# from sklearn.preprocessing import StandardScaler\n",
    "\n",
    "# clf = make_pipeline(StandardScaler(), SVR(C=15.0, epsilon=0.1))\n",
    "# clf.fit(x, y)\n",
    "# y_pred = clf.predict(z)"
   ]
  },
  {
   "cell_type": "code",
   "execution_count": null,
   "metadata": {},
   "outputs": [],
   "source": [
    "# 4th try\n",
    "# from sklearn.ensemble import GradientBoostingRegressor\n",
    "# from sklearn.preprocessing import StandardScaler\n",
    "\n",
    "# scaler = StandardScaler().fit(x)\n",
    "# rescaled_trainX = scaler.transform(x)\n",
    "\n",
    "# clf = GradientBoostingRegressor(random_state=21, n_estimators=400)\n",
    "# clf.fit(rescaled_trainX, y)\n",
    "# rescaled_testX = scaler.transform(z)\n",
    "# y_pred = clf.predict(rescaled_testX)"
   ]
  },
  {
   "cell_type": "code",
   "execution_count": null,
   "metadata": {},
   "outputs": [],
   "source": [
    "# 5th and 6th tries\n",
    "# from sklearn.linear_model import RidgeCV, LassoCV\n",
    "# from sklearn.svm import SVR\n",
    "\n",
    "# estimators = [('ridge', RidgeCV()),\n",
    "#               ('lasso', LassoCV(random_state=21)),\n",
    "#               ('svr', SVR(C=15))]\n",
    "\n",
    "# from sklearn.ensemble import GradientBoostingRegressor\n",
    "# from sklearn.ensemble import StackingRegressor\n",
    "\n",
    "# reg = StackingRegressor(\n",
    "#     estimators=estimators,\n",
    "#     final_estimator=GradientBoostingRegressor(random_state=21, n_estimators=25))\n",
    "# reg.fit(x, y)\n",
    "# y_pred = reg.predict(z)"
   ]
  },
  {
   "cell_type": "code",
   "execution_count": 35,
   "metadata": {},
   "outputs": [],
   "source": [
    "# 7th and 8th tries\n",
    "# from sklearn.linear_model import LinearRegression, LassoCV\n",
    "# from sklearn.ensemble import RandomForestRegressor\n",
    "# from sklearn.tree import DecisionTreeRegressor\n",
    "# from sklearn.svm import SVR\n",
    "\n",
    "# estimators = [('ridge', LinearRegression()),\n",
    "#               ('lasso', LassoCV(random_state=21)),\n",
    "#               ('rf', RandomForestRegressor()),\n",
    "#               ('svr', SVR(C=15))]\n",
    "\n",
    "# from sklearn.ensemble import GradientBoostingRegressor\n",
    "# from sklearn.ensemble import StackingRegressor\n",
    "\n",
    "# reg = StackingRegressor(\n",
    "#     estimators=estimators,\n",
    "#     final_estimator=GradientBoostingRegressor(random_state=21, n_estimators=100))\n",
    "# reg.fit(x, y)\n",
    "# y_pred = reg.predict(z)"
   ]
  },
  {
   "cell_type": "code",
   "execution_count": 37,
   "metadata": {},
   "outputs": [
    {
     "name": "stdout",
     "output_type": "stream",
     "text": [
      "Best score: 0.602\n",
      "Best parameters set:\n",
      "\tC: 0.9649709995361269\n",
      "\tepsilon: 0.9450482237927939\n"
     ]
    }
   ],
   "source": [
    "# 9th try\n",
    "from sklearn.svm import SVR\n",
    "from scipy.stats import uniform\n",
    "from sklearn.model_selection import RandomizedSearchCV\n",
    "from sklearn.preprocessing import StandardScaler\n",
    "\n",
    "scaler = StandardScaler().fit(x)\n",
    "rescaled_x = scaler.transform(x)\n",
    "\n",
    "parameters = {'C': uniform(), 'epsilon': uniform()}\n",
    "model = SVR()\n",
    "clf = RandomizedSearchCV(estimator=model, param_distributions=parameters, n_iter=100, random_state=7, cv=3)\n",
    "clf.fit(rescaled_x, y)\n",
    "\n",
    "print(\"Best score: %0.3f\" % clf.best_score_)\n",
    "print(\"Best parameters set:\")\n",
    "best_parameters = clf.best_estimator_.get_params()\n",
    "for param_name in sorted(parameters.keys()):\n",
    "    print(\"\\t%s: %r\" % (param_name, best_parameters[param_name]))\n",
    "\n",
    "clf = SVR(C=best_parameters['C'], epsilon=best_parameters['epsilon'])\n",
    "clf.fit(rescaled_x, y)\n",
    "rescaled_z = scaler.transform(z)\n",
    "y_pred = clf.predict(rescaled_z)"
   ]
  },
  {
   "cell_type": "code",
   "execution_count": 38,
   "metadata": {},
   "outputs": [],
   "source": [
    "Ypd = pd.DataFrame({'Value': y_pred})\n",
    "Ypd['Id'] = range(len(Ypd))\n",
    "Ypd.to_csv('Muradasilov_Ruslan.csv', index=False)"
   ]
  },
  {
   "cell_type": "code",
   "execution_count": 39,
   "metadata": {},
   "outputs": [
    {
     "name": "stdout",
     "output_type": "stream",
     "text": [
      "[25.85062824 28.19304794 25.31976892 ... 23.64528108 30.07264014\n",
      " 20.26735174] (2000,)\n"
     ]
    }
   ],
   "source": [
    "print(y_pred, y_pred.shape)"
   ]
  },
  {
   "cell_type": "code",
   "execution_count": 40,
   "metadata": {},
   "outputs": [
    {
     "data": {
      "text/html": [
       "<div>\n",
       "<style scoped>\n",
       "    .dataframe tbody tr th:only-of-type {\n",
       "        vertical-align: middle;\n",
       "    }\n",
       "\n",
       "    .dataframe tbody tr th {\n",
       "        vertical-align: top;\n",
       "    }\n",
       "\n",
       "    .dataframe thead th {\n",
       "        text-align: right;\n",
       "    }\n",
       "</style>\n",
       "<table border=\"1\" class=\"dataframe\">\n",
       "  <thead>\n",
       "    <tr style=\"text-align: right;\">\n",
       "      <th></th>\n",
       "      <th>Value</th>\n",
       "      <th>Id</th>\n",
       "    </tr>\n",
       "  </thead>\n",
       "  <tbody>\n",
       "    <tr>\n",
       "      <th>0</th>\n",
       "      <td>25.850628</td>\n",
       "      <td>0</td>\n",
       "    </tr>\n",
       "    <tr>\n",
       "      <th>1</th>\n",
       "      <td>28.193048</td>\n",
       "      <td>1</td>\n",
       "    </tr>\n",
       "    <tr>\n",
       "      <th>2</th>\n",
       "      <td>25.319769</td>\n",
       "      <td>2</td>\n",
       "    </tr>\n",
       "    <tr>\n",
       "      <th>3</th>\n",
       "      <td>26.500552</td>\n",
       "      <td>3</td>\n",
       "    </tr>\n",
       "    <tr>\n",
       "      <th>4</th>\n",
       "      <td>29.419237</td>\n",
       "      <td>4</td>\n",
       "    </tr>\n",
       "  </tbody>\n",
       "</table>\n",
       "</div>"
      ],
      "text/plain": [
       "       Value  Id\n",
       "0  25.850628   0\n",
       "1  28.193048   1\n",
       "2  25.319769   2\n",
       "3  26.500552   3\n",
       "4  29.419237   4"
      ]
     },
     "execution_count": 40,
     "metadata": {},
     "output_type": "execute_result"
    }
   ],
   "source": [
    "Ypd.head()"
   ]
  },
  {
   "cell_type": "code",
   "execution_count": null,
   "metadata": {},
   "outputs": [],
   "source": []
  }
 ],
 "metadata": {
  "kernelspec": {
   "display_name": "Python 3",
   "language": "python",
   "name": "python3"
  },
  "language_info": {
   "codemirror_mode": {
    "name": "ipython",
    "version": 3
   },
   "file_extension": ".py",
   "mimetype": "text/x-python",
   "name": "python",
   "nbconvert_exporter": "python",
   "pygments_lexer": "ipython3",
   "version": "3.7.4"
  }
 },
 "nbformat": 4,
 "nbformat_minor": 4
}
