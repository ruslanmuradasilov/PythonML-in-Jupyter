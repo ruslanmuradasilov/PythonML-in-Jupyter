{
 "cells": [
  {
   "cell_type": "code",
   "execution_count": 40,
   "metadata": {},
   "outputs": [],
   "source": [
    "import pandas as pd"
   ]
  },
  {
   "cell_type": "code",
   "execution_count": 41,
   "metadata": {},
   "outputs": [],
   "source": [
    "people = pd.read_csv(\"people.csv\")\n",
    "cars = pd.read_csv(\"cars.csv\")\n",
    "appartments = pd.read_csv(\"appartments.csv\")"
   ]
  },
  {
   "cell_type": "markdown",
   "metadata": {},
   "source": [
    "Task 1 (d): Заменить пропущенные значения медианой"
   ]
  },
  {
   "cell_type": "code",
   "execution_count": 42,
   "metadata": {},
   "outputs": [],
   "source": [
    "def fillna_median(df):\n",
    "    for i in df:\n",
    "        if df[i].isnull().sum() > 0:\n",
    "            df[i + '_indicator'] = pd.isnull(df[i])\n",
    "    return df.fillna(df.median())\n",
    "    \n",
    "people = fillna_median(people)\n",
    "cars = fillna_median(cars)\n",
    "appartments = fillna_median(appartments)\n",
    "\n",
    "people.to_csv(\"people_stage1.csv\", index=False)\n",
    "cars.to_csv(\"cars_stage1.csv\", index=False)\n",
    "appartments.to_csv(\"appartments_stage1.csv\", index=False)"
   ]
  },
  {
   "cell_type": "markdown",
   "metadata": {},
   "source": [
    "Task 2 (c): Добавить в таблицу people бинарный признак того, что у человека есть хотя бы одна квартира или хотя бы одна машина"
   ]
  },
  {
   "cell_type": "code",
   "execution_count": 43,
   "metadata": {},
   "outputs": [],
   "source": [
    "people['Has_appartment_or_car'] = 0\n",
    "has_car = cars['ID_person'].unique().tolist()\n",
    "has_appartment = appartments['ID_person'].unique().tolist()\n",
    "has_appartment_or_car = list(set(has_car + has_appartment))\n",
    "people.loc[has_appartment_or_car, 'Has_appartment_or_car'] = 1\n",
    "people.to_csv(\"people_stage2.csv\", index=False)"
   ]
  },
  {
   "cell_type": "markdown",
   "metadata": {},
   "source": [
    "Task 3 (d): Отсортировать таблицу cars по доходу владельца по убыванию"
   ]
  },
  {
   "cell_type": "code",
   "execution_count": 44,
   "metadata": {},
   "outputs": [],
   "source": [
    "cars['Salary_person'] = people.loc[cars['ID_person'], 'Salary'].values\n",
    "cars = cars.sort_values('Salary_person', ascending=False)\n",
    "cars = cars.drop('Salary_person', 1)\n",
    "cars.to_csv(\"cars_stage3.csv\", header=False)"
   ]
  },
  {
   "cell_type": "markdown",
   "metadata": {},
   "source": [
    "Task 4 (cb): Посчитать среднее количество стоимости машин для студентов"
   ]
  },
  {
   "cell_type": "code",
   "execution_count": 45,
   "metadata": {},
   "outputs": [
    {
     "name": "stdout",
     "output_type": "stream",
     "text": [
      "1569564.6695652173\n"
     ]
    }
   ],
   "source": [
    "students_id = []\n",
    "students_id = people.index[(people['Profession'] == \"студент\") & (people['Sex'] == 'м')].tolist()\n",
    "average_price = cars.loc[cars['ID_person'].isin(students_id), 'Price'].sum() / len(students_id)\n",
    "print(average_price)"
   ]
  },
  {
   "cell_type": "markdown",
   "metadata": {},
   "source": [
    "Task 5 (d): Сохранить таблицу минимальных и максимальных зарплат в зависимости от пола, профессии и количества машин"
   ]
  },
  {
   "cell_type": "code",
   "execution_count": 46,
   "metadata": {
    "scrolled": true
   },
   "outputs": [],
   "source": [
    "people['Number_of_cars'] = 0\n",
    "people.loc[cars['ID_person'], 'Number_of_cars'] = cars['ID_person'].value_counts()\n",
    "grouped = people.groupby(['Sex', 'Profession', 'Number_of_cars'], as_index=False).agg({\"Salary\": [max, min]})\n",
    "grouped.columns = [\"_\".join(x) for x in grouped.columns.ravel()]\n",
    "grouped.to_csv(\"stage5.csv\")"
   ]
  },
  {
   "cell_type": "code",
   "execution_count": null,
   "metadata": {},
   "outputs": [],
   "source": []
  }
 ],
 "metadata": {
  "kernelspec": {
   "display_name": "Python 3",
   "language": "python",
   "name": "python3"
  },
  "language_info": {
   "codemirror_mode": {
    "name": "ipython",
    "version": 3
   },
   "file_extension": ".py",
   "mimetype": "text/x-python",
   "name": "python",
   "nbconvert_exporter": "python",
   "pygments_lexer": "ipython3",
   "version": "3.7.4"
  }
 },
 "nbformat": 4,
 "nbformat_minor": 4
}
